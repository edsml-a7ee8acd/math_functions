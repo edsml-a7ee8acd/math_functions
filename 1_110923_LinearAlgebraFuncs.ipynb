{
 "cells": [
  {
   "cell_type": "code",
   "execution_count": 1,
   "id": "7d4ffa67",
   "metadata": {},
   "outputs": [],
   "source": [
    "import numpy as np\n",
    "import numpy.linalg as la"
   ]
  },
  {
   "cell_type": "markdown",
   "id": "e1ed5e72",
   "metadata": {},
   "source": [
    "We can construct identity matrices using the numpy.identity(n) and numpy.eye(n) functions. The former constructs an n x n square matrix with 1s along the leading diagonal.\n",
    "\n",
    "The latter constructs an n x m matrix with 1s along the kth diagonal, where k=0 can be specified as the main diagonal."
   ]
  },
  {
   "cell_type": "code",
   "execution_count": 2,
   "id": "424f172f",
   "metadata": {},
   "outputs": [
    {
     "name": "stdout",
     "output_type": "stream",
     "text": [
      "[[1. 0. 0. 0. 0.]\n",
      " [0. 1. 0. 0. 0.]\n",
      " [0. 0. 1. 0. 0.]\n",
      " [0. 0. 0. 1. 0.]\n",
      " [0. 0. 0. 0. 1.]]\n"
     ]
    }
   ],
   "source": [
    "#Square 5*5 matrix:\n",
    "print(np.identity(5))"
   ]
  },
  {
   "cell_type": "code",
   "execution_count": 3,
   "id": "d79d46bc",
   "metadata": {},
   "outputs": [
    {
     "name": "stdout",
     "output_type": "stream",
     "text": [
      "[[1. 0. 0. 0. 0.]\n",
      " [0. 1. 0. 0. 0.]\n",
      " [0. 0. 1. 0. 0.]\n",
      " [0. 0. 0. 1. 0.]]\n"
     ]
    }
   ],
   "source": [
    "#4*5 matrix using np.eye\n",
    "print(np.eye(4, 5))"
   ]
  },
  {
   "cell_type": "code",
   "execution_count": 4,
   "id": "9933269f",
   "metadata": {},
   "outputs": [
    {
     "name": "stdout",
     "output_type": "stream",
     "text": [
      "[[0. 0. 0. 0. 0.]\n",
      " [1. 0. 0. 0. 0.]\n",
      " [0. 1. 0. 0. 0.]\n",
      " [0. 0. 1. 0. 0.]]\n"
     ]
    }
   ],
   "source": [
    "#4*5 matrix with k specified as -1 \n",
    "#this shifts the leading diagonal 1 to the left\n",
    "print(np.eye(4, 5, -1))"
   ]
  },
  {
   "cell_type": "code",
   "execution_count": 5,
   "id": "3642438f",
   "metadata": {},
   "outputs": [
    {
     "name": "stdout",
     "output_type": "stream",
     "text": [
      "[[0. 0. 1. 0. 0.]\n",
      " [0. 0. 0. 1. 0.]\n",
      " [0. 0. 0. 0. 1.]\n",
      " [0. 0. 0. 0. 0.]]\n"
     ]
    }
   ],
   "source": [
    "#4*5 matrix with k specified as 2\n",
    "#this shifts the leading diagonal 2 to the right\n",
    "print(np.eye(4, 5, 2))"
   ]
  },
  {
   "cell_type": "markdown",
   "id": "8a2466df",
   "metadata": {},
   "source": [
    "**Diagonal matrices**\n",
    "\n",
    "np.diag can be used to extract a diagonal from a given matrix; if the input array is 2D, the output of np.diag is a 1D array with diagonal entries \n",
    "If the input is 1d, the output of np.diag is a 2D array with entries along the diagonal"
   ]
  },
  {
   "cell_type": "code",
   "execution_count": 11,
   "id": "0152d16c",
   "metadata": {},
   "outputs": [
    {
     "name": "stdout",
     "output_type": "stream",
     "text": [
      " [1 4] \n",
      "\n",
      "[[1 0 0 0]\n",
      " [0 2 0 0]\n",
      " [0 0 3 0]\n",
      " [0 0 0 4]]\n"
     ]
    }
   ],
   "source": [
    "M = np.array([[1, 2], [3, 4]])\n",
    "N = np.array([1, 2, 3, 4])\n",
    "\n",
    "#1D array of diagonal values\n",
    "print(f\" {np.diag(M)} \\n\")\n",
    "\n",
    "#2D array with values along leading diagonal\n",
    "print(np.diag(N))"
   ]
  },
  {
   "cell_type": "code",
   "execution_count": 13,
   "id": "7f7fc30d",
   "metadata": {},
   "outputs": [
    {
     "name": "stdout",
     "output_type": "stream",
     "text": [
      "[[2 3 0 0]\n",
      " [1 3 1 0]\n",
      " [0 1 5 5]\n",
      " [0 0 1 4]]\n"
     ]
    }
   ],
   "source": [
    "a = [1, 1, 1]\n",
    "b = [2, 3, 5, 4]\n",
    "c = [3, 1, 5]\n",
    "\n",
    "#Produces a tri-diagonal matrix, which has \n",
    "#values along the leading diagonal and diagonals\n",
    "#either side of it\n",
    "\n",
    "A = np.diag(b, 0) + np.diag(a, -1) + np.diag(c, 1)\n",
    "print(A)"
   ]
  },
  {
   "cell_type": "markdown",
   "id": "ce7c5434",
   "metadata": {},
   "source": [
    "**Constructing an upper and lower triangular matrix**\n",
    "\n",
    "This can be done using the functions **numpy.triu** and **numpy.tril**. The array whose entries below or above the kth diagonal are 0 "
   ]
  },
  {
   "cell_type": "code",
   "execution_count": 21,
   "id": "e9a8dbcf",
   "metadata": {},
   "outputs": [
    {
     "name": "stdout",
     "output_type": "stream",
     "text": [
      "[[ 1  2  3]\n",
      " [ 4  5  6]\n",
      " [ 7  8  9]\n",
      " [10 11 12]] \n",
      "\n",
      "[[ 1  2  3]\n",
      " [ 4  5  6]\n",
      " [ 0  8  9]\n",
      " [ 0  0 12]] \n",
      "\n",
      "[[ 1  0  0]\n",
      " [ 4  5  0]\n",
      " [ 7  8  9]\n",
      " [10 11 12]] \n",
      "\n"
     ]
    }
   ],
   "source": [
    "M = np.arange(1, 13).reshape(4, 3)\n",
    "print(f\"{M} \\n\")\n",
    "\n",
    "#Upper triangular matrix below the leading diagonal\n",
    "print(f\"{np.triu(M, -1)} \\n\")\n",
    "\n",
    "#Lower triangular matrix above the leading diagonal\n",
    "print(f\"{np.tril(M, 0)} \\n\")"
   ]
  },
  {
   "cell_type": "markdown",
   "id": "37d72ca2",
   "metadata": {},
   "source": [
    "**Producing sparse matrices**\n",
    "\n",
    "Sparse matrix = mostly zero-valued entries \n",
    "\n",
    "When working with sparse matrices, we may prefer to skip certain operations which will result in uncessary adding and multiplication of 0's. \n",
    "\n",
    "using the **scipy.sparse** package we can build and carry out operations on sparse matrices. "
   ]
  },
  {
   "cell_type": "code",
   "execution_count": 27,
   "id": "8d306bc3",
   "metadata": {},
   "outputs": [
    {
     "name": "stdout",
     "output_type": "stream",
     "text": [
      "1: ([1, 1, 1, 1, 1, 1, 1, 1, 1], [2, 2, 2, 2, 2, 2, 2, 2, 2, 2], [3, 3, 3, 3, 3, 3, 3, 3, 3]) \n",
      "\n",
      "2: [[2 3 0 0 0 0 0 0 0 0]\n",
      " [1 2 3 0 0 0 0 0 0 0]\n",
      " [0 1 2 3 0 0 0 0 0 0]\n",
      " [0 0 1 2 3 0 0 0 0 0]\n",
      " [0 0 0 1 2 3 0 0 0 0]\n",
      " [0 0 0 0 1 2 3 0 0 0]\n",
      " [0 0 0 0 0 1 2 3 0 0]\n",
      " [0 0 0 0 0 0 1 2 3 0]\n",
      " [0 0 0 0 0 0 0 1 2 3]\n",
      " [0 0 0 0 0 0 0 0 1 2]] \n",
      "\n",
      "3:   (0, 0)\t2\n",
      "  (0, 1)\t3\n",
      "  (1, 0)\t1\n",
      "  (1, 1)\t2\n",
      "  (1, 2)\t3\n",
      "  (2, 1)\t1\n",
      "  (2, 2)\t2\n",
      "  (2, 3)\t3\n",
      "  (3, 2)\t1\n",
      "  (3, 3)\t2\n",
      "  (3, 4)\t3\n",
      "  (4, 3)\t1\n",
      "  (4, 4)\t2\n",
      "  (4, 5)\t3\n",
      "  (5, 4)\t1\n",
      "  (5, 5)\t2\n",
      "  (5, 6)\t3\n",
      "  (6, 5)\t1\n",
      "  (6, 6)\t2\n",
      "  (6, 7)\t3\n",
      "  (7, 6)\t1\n",
      "  (7, 7)\t2\n",
      "  (7, 8)\t3\n",
      "  (8, 7)\t1\n",
      "  (8, 8)\t2\n",
      "  (8, 9)\t3\n",
      "  (9, 8)\t1\n",
      "  (9, 9)\t2\n"
     ]
    }
   ],
   "source": [
    "from scipy.sparse import coo_matrix\n",
    "\n",
    "a, b, c = [1] * 9, [2] * 10, [3] * 9\n",
    "print(f\"1: {a, b, c} \\n\")\n",
    "\n",
    "#tridiagonal matrix from given arrays\n",
    "A = np.diag(a, -1) + np.diag(b, 0) + np.diag(c, 1)\n",
    "print(f\"2: {A} \\n\")\n",
    "\n",
    "#conversion to a sparse SciPy matrix\n",
    "spA = coo_matrix(A)\n",
    "print(f\"3: {spA}\")"
   ]
  },
  {
   "cell_type": "markdown",
   "id": "45fea45c",
   "metadata": {},
   "source": [
    "This has reduced the number of entries in A (100) to just 28 in spA. \n",
    "The large the matrix, the higher the computational savings"
   ]
  },
  {
   "cell_type": "markdown",
   "id": "1d5f32ad",
   "metadata": {},
   "source": [
    "We can also use the **scipy.sparse import diags** library to construct sparse matrices directly from SciPy, rather than converting a NumPy array. "
   ]
  },
  {
   "cell_type": "code",
   "execution_count": 31,
   "id": "f84f7a9d",
   "metadata": {},
   "outputs": [
    {
     "name": "stdout",
     "output_type": "stream",
     "text": [
      "1: [[2. 3. 0. 0. 0. 0. 0. 0. 0. 0.]\n",
      " [1. 2. 3. 0. 0. 0. 0. 0. 0. 0.]\n",
      " [0. 1. 2. 3. 0. 0. 0. 0. 0. 0.]\n",
      " [0. 0. 1. 2. 3. 0. 0. 0. 0. 0.]\n",
      " [0. 0. 0. 1. 2. 3. 0. 0. 0. 0.]\n",
      " [0. 0. 0. 0. 1. 2. 3. 0. 0. 0.]\n",
      " [0. 0. 0. 0. 0. 1. 2. 3. 0. 0.]\n",
      " [0. 0. 0. 0. 0. 0. 1. 2. 3. 0.]\n",
      " [0. 0. 0. 0. 0. 0. 0. 1. 2. 3.]\n",
      " [0. 0. 0. 0. 0. 0. 0. 0. 1. 2.]] \n",
      "\n",
      "2:   (1, 0)\t1.0\n",
      "  (2, 1)\t1.0\n",
      "  (3, 2)\t1.0\n",
      "  (4, 3)\t1.0\n",
      "  (5, 4)\t1.0\n",
      "  (6, 5)\t1.0\n",
      "  (7, 6)\t1.0\n",
      "  (8, 7)\t1.0\n",
      "  (9, 8)\t1.0\n",
      "  (0, 0)\t2.0\n",
      "  (1, 1)\t2.0\n",
      "  (2, 2)\t2.0\n",
      "  (3, 3)\t2.0\n",
      "  (4, 4)\t2.0\n",
      "  (5, 5)\t2.0\n",
      "  (6, 6)\t2.0\n",
      "  (7, 7)\t2.0\n",
      "  (8, 8)\t2.0\n",
      "  (9, 9)\t2.0\n",
      "  (0, 1)\t3.0\n",
      "  (1, 2)\t3.0\n",
      "  (2, 3)\t3.0\n",
      "  (3, 4)\t3.0\n",
      "  (4, 5)\t3.0\n",
      "  (5, 6)\t3.0\n",
      "  (6, 7)\t3.0\n",
      "  (7, 8)\t3.0\n",
      "  (8, 9)\t3.0\n"
     ]
    }
   ],
   "source": [
    "from scipy.sparse import diags\n",
    "\n",
    "diagonals = [[1] * 9, [2] * 10, [3] * 9]\n",
    "\n",
    "A = diags(diagonals, [-1, 0, 1], format='coo')\n",
    "print(f\"1: {A.toarray()} \\n\")\n",
    "print(f\"2: {A}\")"
   ]
  },
  {
   "cell_type": "markdown",
   "id": "2a8c5622",
   "metadata": {},
   "source": [
    "**MATRIX OPERATIONS -  Arithmetic Operations**\n",
    "\n",
    "All arithmetic operators on arrays apply elementwise. \n",
    "If both operands are matrices, they need the same dimensions to be conformable for the operation."
   ]
  },
  {
   "cell_type": "code",
   "execution_count": 35,
   "id": "8fce7eea",
   "metadata": {},
   "outputs": [],
   "source": [
    "M = np.array([[1, 2], \n",
    "              [3, 4]])"
   ]
  },
  {
   "cell_type": "code",
   "execution_count": 46,
   "id": "7cbf2396",
   "metadata": {},
   "outputs": [
    {
     "name": "stdout",
     "output_type": "stream",
     "text": [
      "1: [[2 4]\n",
      " [6 8]] \n",
      "\n",
      "2: [[0 0]\n",
      " [0 0]] \n",
      "\n",
      "3: [[ 4  8]\n",
      " [12 16]] \n",
      "\n",
      "4: [[ 1  4]\n",
      " [ 9 16]] \n",
      "\n",
      "5: [[1. 1.]\n",
      " [1. 1.]] \n",
      "\n",
      "6: [[ 1  8]\n",
      " [27 64]] \n",
      "\n",
      "7: [[1 0]\n",
      " [1 0]] \n",
      "\n",
      "8: [[0 1]\n",
      " [1 2]] \n",
      "\n"
     ]
    }
   ],
   "source": [
    "#Add matrices\n",
    "print(f\"1: {M+M} \\n\")\n",
    "\n",
    "#Subtract matrices\n",
    "print(f\"2: {M-M} \\n\")\n",
    "\n",
    "#multiply a matrix by a scalar\n",
    "print(f\"3: {4*M} \\n\")\n",
    "\n",
    "#multiply matrices elementwise\n",
    "print(f\"4: {M*M} \\n\")\n",
    "\n",
    "#divide matrices elementwise\n",
    "print(f\"5: {M/M} \\n\")\n",
    "\n",
    "#exponentiation elementwise\n",
    "print(f\"6: {M**3} \\n\")\n",
    "\n",
    "#Modulo of the matrix elementwise\n",
    "print(f\"7: {M%2} \\n\")\n",
    "\n",
    "#Integer (floor) divsion for matrix elements \n",
    "print(f\"8: {M // 2} \\n\")"
   ]
  },
  {
   "cell_type": "markdown",
   "id": "1c231a3a",
   "metadata": {},
   "source": [
    "**MATRIX MULTIPLICATION**\n",
    "\n",
    "The numpy function **np.matul(array1, array2)** can be used to multiply two matrices together \n",
    "We can also use the @ function\n",
    "\n",
    "The **np.linalg.matrix_power(array, exp)** function can be called to raise a matrix to some power \n"
   ]
  },
  {
   "cell_type": "code",
   "execution_count": 52,
   "id": "697b281d",
   "metadata": {},
   "outputs": [
    {
     "name": "stdout",
     "output_type": "stream",
     "text": [
      "1: [[ 7 10]\n",
      " [15 22]] \n",
      "\n",
      "2: [[ 37  54]\n",
      " [ 81 118]] \n",
      "\n",
      "3: [[ 37  54]\n",
      " [ 81 118]]\n"
     ]
    }
   ],
   "source": [
    "#Right-multiplies M by M \n",
    "print(f\"1: {M@M} \\n\")\n",
    "\n",
    "#Right-multiplies M by M by M\n",
    "print(f\"2: {M@M@M} \\n\")\n",
    "\n",
    "\n",
    "#Raises a matrix to the third power, i.e. right-multiplies\n",
    "# M by M by M\n",
    "print(f\"3: {la.matrix_power(M, 3)}\")"
   ]
  },
  {
   "cell_type": "code",
   "execution_count": 57,
   "id": "66f18422",
   "metadata": {},
   "outputs": [
    {
     "name": "stdout",
     "output_type": "stream",
     "text": [
      "1: [1 2]\n",
      "2: [ 7 10]\n",
      "3: [ 5 11]\n"
     ]
    }
   ],
   "source": [
    "x = np.array([1,2])\n",
    "print(f\"1: {x}\")\n",
    "\n",
    "#Vector-matrix multiplication\n",
    "print(f\"2: {x @ M}\")\n",
    "\n",
    "#Matrix-vector multiplication\n",
    "print(f\"3: {M @ x}\")"
   ]
  },
  {
   "cell_type": "markdown",
   "id": "a0beeb6b",
   "metadata": {},
   "source": [
    "**Inner Product:**\n",
    "The **np.dot** function is a dot product used to calculate the inner product of two vectors. "
   ]
  },
  {
   "cell_type": "code",
   "execution_count": 59,
   "id": "b4382395",
   "metadata": {},
   "outputs": [
    {
     "name": "stdout",
     "output_type": "stream",
     "text": [
      "11\n"
     ]
    }
   ],
   "source": [
    "x = np.array([1, 2])\n",
    "y = np.array([3, 4])\n",
    "\n",
    "print(np.dot(x, y))"
   ]
  },
  {
   "cell_type": "markdown",
   "id": "6f858654",
   "metadata": {},
   "source": [
    "**Transpose:** The **np.transpose** function can be used to transpose a matrix\n",
    "The array attribute **array.T** can also be called"
   ]
  },
  {
   "cell_type": "code",
   "execution_count": 65,
   "id": "e6c1a7c3",
   "metadata": {},
   "outputs": [
    {
     "name": "stdout",
     "output_type": "stream",
     "text": [
      "1: [[1 2]\n",
      " [3 4]] \n",
      "\n",
      "2: [[1 3]\n",
      " [2 4]] \n",
      "\n",
      "3: [[1 3]\n",
      " [2 4]]\n"
     ]
    }
   ],
   "source": [
    "M = np.array([[1, 2], \n",
    "              [3, 4]])\n",
    "print(f\"1: {M} \\n\")\n",
    "\n",
    "#transpose of matrix M using the array attribute \n",
    "print(f\"2: {M.T} \\n\")\n",
    "\n",
    "#transpose of matrix M using the transpose of\n",
    "#numpy\n",
    "\n",
    "print(f\"3: {np.transpose(M)}\")"
   ]
  },
  {
   "cell_type": "markdown",
   "id": "58de0777",
   "metadata": {},
   "source": [
    "1D arrays remain unchanged when transposed; so, column/row vectors should be initialised as 2D arrays with dimensions (n x 1) or (1 x n). \n",
    "\n",
    "If we start from a 1D array of 4 entries, we can generate an array of shape k x 1 x 2 "
   ]
  },
  {
   "cell_type": "code",
   "execution_count": 73,
   "id": "85f1ba3b",
   "metadata": {},
   "outputs": [
    {
     "name": "stdout",
     "output_type": "stream",
     "text": [
      "1: [1 2 3],\n",
      " 2: 1,\n",
      " 3: (3,)\n",
      "4: [1 2 3]\n"
     ]
    }
   ],
   "source": [
    "#One-dimensional np array\n",
    "\n",
    "x = np.array([1, 2, 3])\n",
    "print(f\"1: {x},\\n 2: {x.ndim},\\n 3: {x.shape}\")\n",
    "print(f\"4: {x.T}\")"
   ]
  },
  {
   "cell_type": "code",
   "execution_count": 77,
   "id": "be8cb2b4",
   "metadata": {},
   "outputs": [
    {
     "name": "stdout",
     "output_type": "stream",
     "text": [
      "1: [[1 2 3]],\n",
      " 2: 2,\n",
      " 3: (1, 3)\n",
      "\n",
      "4: [[1]\n",
      " [2]\n",
      " [3]]\n"
     ]
    }
   ],
   "source": [
    "#Make the array two-dimensional with dimensions \n",
    "#[1, k]\n",
    "x = np.array([[1, 2, 3]])\n",
    "print(f\"1: {x},\\n 2: {x.ndim},\\n 3: {x.shape}\\n\")\n",
    "print(f\"4: {x.T}\")\n",
    "\n",
    "#As seen, the matrix is now transposed unlike the \n",
    "#1D array above"
   ]
  },
  {
   "cell_type": "code",
   "execution_count": 80,
   "id": "547bda50",
   "metadata": {},
   "outputs": [
    {
     "name": "stdout",
     "output_type": "stream",
     "text": [
      "1: [[1]\n",
      " [2]\n",
      " [3]],\n",
      " 2: 2,\n",
      " 3: (3, 1)\n"
     ]
    }
   ],
   "source": [
    "#We can also use the reshape attribute to transpose\n",
    "#the matrix \n",
    "x = np.array([1, 2, 3]).reshape(-1, 1)\n",
    "print(f\"1: {x},\\n 2: {x.ndim},\\n 3: {x.shape}\")"
   ]
  },
  {
   "cell_type": "markdown",
   "id": "782a0cb0",
   "metadata": {},
   "source": [
    "**Complex Conjugate:**\n",
    "We can use the **np.conjugate** attribute to find the complex conjugate of an array with complex numbers in its entries\n",
    "We can obtain the conjugate/Hermitian transpose by calling the **array.T.conj()**"
   ]
  },
  {
   "cell_type": "code",
   "execution_count": 83,
   "id": "db1fbd7e",
   "metadata": {},
   "outputs": [
    {
     "name": "stdout",
     "output_type": "stream",
     "text": [
      "1: [[1.+1.j 2.+2.j]\n",
      " [3.+3.j 4.+4.j]]\n",
      "\n",
      "2: [[1.-1.j 2.-2.j]\n",
      " [3.-3.j 4.-4.j]]\n",
      "\n",
      "3: [[1.-1.j 3.-3.j]\n",
      " [2.-2.j 4.-4.j]]\n"
     ]
    }
   ],
   "source": [
    "C = np.array([[1 + 1j, 2 + 2j],\n",
    "              [3 + 3j, 4 + 4j]])\n",
    "\n",
    "print(f\"1: {C}\\n\")\n",
    "\n",
    "#conjugate using the np.conjugate function \n",
    "print(f\"2: {np.conj(C)}\\n\")\n",
    "\n",
    "#conjugate of the transpose using the \n",
    "#array.T.conj attribute\n",
    "print(f\"3: {C.T.conj()}\")"
   ]
  },
  {
   "cell_type": "markdown",
   "id": "9884811b",
   "metadata": {},
   "source": [
    "**NORMS:** We can call the **np.linalg.norm** function to return a matrix or vector norm. \n",
    "If no [order] argument is passed into the function, the Frobenius/2-norm is passed to the matrix"
   ]
  },
  {
   "cell_type": "code",
   "execution_count": 87,
   "id": "9a8535aa",
   "metadata": {},
   "outputs": [
    {
     "name": "stdout",
     "output_type": "stream",
     "text": [
      "1: 6.0\n",
      "\n",
      "2: 3.7416573867739413\n",
      "\n",
      "3: 3.0\n"
     ]
    }
   ],
   "source": [
    "x = np.array([1, 2, 3])\n",
    "M = np.array([[1, 2],\n",
    "              [3, 4]])\n",
    "\n",
    "#calculating the first-order norm of the vector\n",
    "print(f\"1: {la.norm(x, 1)}\\n\")\n",
    "\n",
    "print(f\"2: {la.norm(x)}\\n\")\n",
    "\n",
    "print(f\"3: {la.norm(x, np.inf)}\")"
   ]
  },
  {
   "cell_type": "code",
   "execution_count": 88,
   "id": "8a9e99ff",
   "metadata": {},
   "outputs": [
    {
     "name": "stdout",
     "output_type": "stream",
     "text": [
      "1: 5.477225575051661\n",
      "\n",
      "2: 7.0\n",
      "\n"
     ]
    }
   ],
   "source": [
    "#Calculating the norm of the matrix M\n",
    "print(f\"1: {la.norm(M)}\\n\")\n",
    "\n",
    "print(f\"2: {la.norm(M, np.inf)}\\n\")"
   ]
  },
  {
   "cell_type": "markdown",
   "id": "4b5ab168",
   "metadata": {},
   "source": [
    "**MATRIX INVERSE:** We can use **np.linalg.inv** to find the inverse of a square matrix.\n",
    "An inverse is likely to be imprecise due to round-off errors with larger errors "
   ]
  },
  {
   "cell_type": "code",
   "execution_count": 89,
   "id": "dc43291e",
   "metadata": {},
   "outputs": [
    {
     "name": "stdout",
     "output_type": "stream",
     "text": [
      "1: [[-2.   1. ]\n",
      " [ 1.5 -0.5]]\n"
     ]
    }
   ],
   "source": [
    "print(f\"1: {la.inv(M)}\")"
   ]
  },
  {
   "cell_type": "markdown",
   "id": "b313a2f2",
   "metadata": {},
   "source": [
    "**USING MATRIX MATHS TO SOLVE LINEAR EQUATION SYSTEMS:**\n",
    "Ax = b\n",
    "the **np.linalg.solve** function will solve the equation for x, without the requirement for finding an inverse and using the equation A-1b = x \n"
   ]
  },
  {
   "cell_type": "code",
   "execution_count": 90,
   "id": "35db345a",
   "metadata": {},
   "outputs": [
    {
     "name": "stdout",
     "output_type": "stream",
     "text": [
      "[ 0.2  1.8 -0.4]\n"
     ]
    }
   ],
   "source": [
    "A = np.array([[3, 5, -1],\n",
    "              [1, 4, 1 ],\n",
    "              [9, 0, 2 ]])\n",
    "b = np.array([10, 7, 1])\n",
    "\n",
    "x = np.linalg.solve(A, b)\n",
    "print(x)"
   ]
  }
 ],
 "metadata": {
  "kernelspec": {
   "display_name": "Python 3 (ipykernel)",
   "language": "python",
   "name": "python3"
  },
  "language_info": {
   "codemirror_mode": {
    "name": "ipython",
    "version": 3
   },
   "file_extension": ".py",
   "mimetype": "text/x-python",
   "name": "python",
   "nbconvert_exporter": "python",
   "pygments_lexer": "ipython3",
   "version": "3.9.13"
  }
 },
 "nbformat": 4,
 "nbformat_minor": 5
}
