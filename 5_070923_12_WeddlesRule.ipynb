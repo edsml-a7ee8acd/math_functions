{
 "cells": [
  {
   "cell_type": "code",
   "execution_count": 5,
   "id": "25dcf4fe",
   "metadata": {},
   "outputs": [],
   "source": [
    "import numpy as np"
   ]
  },
  {
   "attachments": {
    "image-2.png": {
     "image/png": "[encoded data removed]"
    },
    "image.png": {
     "image/png": "[encoded data removed]"
    }
   },
   "cell_type": "markdown",
   "id": "b72a38ef",
   "metadata": {},
   "source": [
    "If we take an approximation to I using n subintervals, IS, and then apply Simpson's rule with double the intervals (2n), and call the result IS2. \n",
    "\n",
    "We can combine these two estimates to derive an accurate estimation of I\n",
    "This is Weddle's rule, given by: \n",
    "![image.png](attachment:image.png)\n",
    "\n",
    "![image-2.png](attachment:image-2.png)"
   ]
  },
  {
   "cell_type": "code",
   "execution_count": 6,
   "id": "20b4e3e2",
   "metadata": {},
   "outputs": [],
   "source": [
    "#See 5_070923_11_SimpsonCompositeRule\n",
    "def simpsons_composite_rule(a, b, function, number_intervals=10):\n",
    "    assert number_intervals % 2 == 0 #the implementatin requires that the number of subintervals is not even\n",
    "    interval_size = (b-a)/number_intervals \n",
    "    I_cS2 = function(a) + function(b) # the first and last values of the function, i.e. f(x0) + f(xn) components of the equation\n",
    "    for i in range(1, number_intervals, 2):\n",
    "        I_cS2 += 4 * function(a + i*interval_size) # the odd components i.e. 4sigf(x2i-1)\n",
    "    for i in range(2, number_intervals-1, 2):\n",
    "        I_cS2 += 2 * function(a+i*interval_size) # the even components i.e. 2sigf(x2i)\n",
    "        \n",
    "    return I_cS2 * (interval_size/3.0)\n",
    "    "
   ]
  },
  {
   "cell_type": "code",
   "execution_count": 7,
   "id": "a256561d",
   "metadata": {},
   "outputs": [],
   "source": [
    "def weddles_rule(a, b, function, number_intervals=10):\n",
    "    S = simpsons_composite_rule(a, b, function, number_intervals)\n",
    "    S2 = simpsons_composite_rule(a, b, function, number_intervals*2)\n",
    "    \n",
    "    return S2 + (S2 - S)/15\n",
    "    "
   ]
  },
  {
   "cell_type": "code",
   "execution_count": 8,
   "id": "d9f21c2e",
   "metadata": {},
   "outputs": [
    {
     "name": "stdout",
     "output_type": "stream",
     "text": [
      "Area with 2 Weddle's interval(s) = 1.99857 (error=0.00142927)\n",
      "Area with 10 Weddle's interval(s) = 2 (error=6.44164e-08)\n",
      "Area with 100 Weddle's interval(s) = 2 (error=6.23945e-14)\n",
      "Area with 1000 Weddle's interval(s) = 2 (error=8.88178e-16)\n"
     ]
    }
   ],
   "source": [
    "for i in (2, 10, 100, 1000):\n",
    "    area = weddles_rule(0, np.pi, np.sin, i)\n",
    "    print(\"Area with %g Weddle's interval(s) = %g (error=%g)\"%(i, area, abs(area-2)))"
   ]
  },
  {
   "cell_type": "code",
   "execution_count": null,
   "id": "965acac3",
   "metadata": {},
   "outputs": [],
   "source": []
  }
 ],
 "metadata": {
  "kernelspec": {
   "display_name": "Python 3 (ipykernel)",
   "language": "python",
   "name": "python3"
  },
  "language_info": {
   "codemirror_mode": {
    "name": "ipython",
    "version": 3
   },
   "file_extension": ".py",
   "mimetype": "text/x-python",
   "name": "python",
   "nbconvert_exporter": "python",
   "pygments_lexer": "ipython3",
   "version": "3.9.13"
  }
 },
 "nbformat": 4,
 "nbformat_minor": 5
}
