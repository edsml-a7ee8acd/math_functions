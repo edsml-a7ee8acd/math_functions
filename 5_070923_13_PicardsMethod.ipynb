{
 "cells": [
  {
   "cell_type": "code",
   "execution_count": 1,
   "id": "d96f1efb",
   "metadata": {},
   "outputs": [],
   "source": [
    "import matplotlib.pyplot as plt\n",
    "import numpy as np"
   ]
  },
  {
   "attachments": {
    "image-2.png": {
     "image/png": "[encoded data removed]"
    },
    "image.png": {
     "image/png": "[encoded data removed]"
    }
   },
   "cell_type": "markdown",
   "id": "bf2f16d1",
   "metadata": {},
   "source": [
    "Fixed points: Those where, if g(x) = 0, then g(g(x)) = 0, g(g(g(x))) etc. \n",
    "The points where y=x and y=g(x) intersect in 2D space\n",
    "\n",
    "x^(k) values are thus defined via the iteration:\n",
    "\n",
    "![image.png](attachment:image.png)\n",
    "\n",
    "This can repeated until a given stopping criteria \n",
    "\n",
    "![image-2.png](attachment:image-2.png)\n",
    "\n"
   ]
  },
  {
   "cell_type": "code",
   "execution_count": 3,
   "id": "59df65cc",
   "metadata": {},
   "outputs": [],
   "source": [
    "def picard(f, x, atol=1.0e-6):\n",
    "    #f is the function g(.) described in the algorithm above\n",
    "    #x is our first guess \n",
    "    #atol is a defined absolute error tolerance \n",
    "    fevals = 0 #number of function evaluations, counted so we can compare methods\n",
    "    x_prev = x + 2*atol #initialisation such that the initial condition of the while loop is true\n",
    "    while abs(x-x_prev) > atol:\n",
    "        x_prev = x\n",
    "        x = f(x_prev)\n",
    "        fevals +=1\n",
    "    print('\\nPicard used', fevals, 'function evaluations')\n",
    "    return x\n",
    "\n",
    "def g(x):\n",
    "    return np.exp(-x)\n",
    "    "
   ]
  },
  {
   "cell_type": "code",
   "execution_count": 4,
   "id": "59d4eefd",
   "metadata": {},
   "outputs": [
    {
     "name": "stdout",
     "output_type": "stream",
     "text": [
      "\n",
      "Picard used 29 function evaluations\n",
      "\n",
      "Solution from Picard =  0.5671432690088631\n",
      "Solution from SciPy = 0.5671432904097843\n"
     ]
    }
   ],
   "source": [
    "# 0.9 is our initial guess\n",
    "print('\\nSolution from Picard = ', picard(g, 0.9, atol=1.0e-7))\n",
    "\n",
    "import scipy.optimize as sop\n",
    "\n",
    "# let's check our answer against a SciPy function: sop.newton.\n",
    "def f(x):\n",
    "    return x - np.exp(-x)\n",
    "\n",
    "print('Solution from SciPy =', sop.newton(f, 0.9))"
   ]
  },
  {
   "cell_type": "code",
   "execution_count": null,
   "id": "886ba2d7",
   "metadata": {},
   "outputs": [],
   "source": []
  }
 ],
 "metadata": {
  "kernelspec": {
   "display_name": "Python 3 (ipykernel)",
   "language": "python",
   "name": "python3"
  },
  "language_info": {
   "codemirror_mode": {
    "name": "ipython",
    "version": 3
   },
   "file_extension": ".py",
   "mimetype": "text/x-python",
   "name": "python",
   "nbconvert_exporter": "python",
   "pygments_lexer": "ipython3",
   "version": "3.9.13"
  }
 },
 "nbformat": 4,
 "nbformat_minor": 5
}
