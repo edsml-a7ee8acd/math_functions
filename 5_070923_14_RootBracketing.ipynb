{
 "cells": [
  {
   "cell_type": "code",
   "execution_count": null,
   "id": "0b1ae00a",
   "metadata": {},
   "outputs": [],
   "source": [
    "import numpy as np"
   ]
  },
  {
   "cell_type": "markdown",
   "id": "3058618e",
   "metadata": {},
   "source": [
    "For carrying out an iterative algorithm such as Picard's method of successive approximation, it is important to have a solid first estimate of where the root lies. We cna use visual inspection to identify if roots exist, and narrow down the interval. "
   ]
  },
  {
   "cell_type": "markdown",
   "id": "9b780108",
   "metadata": {},
   "source": [
    "This is root bracketing, which proceeds along f(x) in increments delta(x) to identify a new, tighter bracket around the root by detecting a sign change in f(x)"
   ]
  },
  {
   "cell_type": "markdown",
   "id": "d2a159e6",
   "metadata": {},
   "source": [
    "Start off with a wide area and check for a root in that area, then break the area into smaller intervals, repeat"
   ]
  },
  {
   "cell_type": "code",
   "execution_count": null,
   "id": "89b4f70b",
   "metadata": {},
   "outputs": [],
   "source": [
    "def f(x):\n",
    "    return 2*x + x*np.sin(x-3) - 5"
   ]
  },
  {
   "cell_type": "code",
   "execution_count": null,
   "id": "fd26df8f",
   "metadata": {},
   "outputs": [],
   "source": [
    "def root_bracketing(f, a, b, dx):\n",
    "    #a is the initial value\n",
    "    #b is the final value\n",
    "    # dx is a small interval that the while loop iterates over\n",
    "    # f is the name of the function, the example in this case is in the cell above\n",
    "    sign = np.sign(f(a)) #-1 if x<0, 0 if x==0, 1 if x>0\n",
    "    while sign == np.sign(f(a)):\n",
    "        a += dx #increment the value of a to move along the interval up to b\n",
    "        if a >= b:\n",
    "            raise RuntimeError('no root within [a,b]')\n",
    "        return (a-dx, a)"
   ]
  },
  {
   "cell_type": "code",
   "execution_count": null,
   "id": "c0ab7af9",
   "metadata": {},
   "outputs": [],
   "source": [
    "#Function test \n",
    "a = 0 \n",
    "b = 5\n",
    "dx = 0.1\n",
    "\n",
    "print('Bracket with a root = (%.3f, %.3f).'%root_bracketing(f, a, b, dx))"
   ]
  },
  {
   "cell_type": "code",
   "execution_count": null,
   "id": "024ea1c3",
   "metadata": {},
   "outputs": [],
   "source": [
    "nine = -9\n",
    "sign2 = np.sign(nine)\n",
    "ab = [-3, -2, -1, 0, 1, 2, 3]\n",
    "empty = []\n",
    "for a in ab:\n",
    "    if np.sign(a) == sign2:\n",
    "        empty.append(ab[a])\n",
    "        \n",
    "print(empty)\n"
   ]
  },
  {
   "cell_type": "code",
   "execution_count": null,
   "id": "7650e104",
   "metadata": {},
   "outputs": [],
   "source": []
  }
 ],
 "metadata": {
  "kernelspec": {
   "display_name": "Python 3 (ipykernel)",
   "language": "python",
   "name": "python3"
  },
  "language_info": {
   "codemirror_mode": {
    "name": "ipython",
    "version": 3
   },
   "file_extension": ".py",
   "mimetype": "text/x-python",
   "name": "python",
   "nbconvert_exporter": "python",
   "pygments_lexer": "ipython3",
   "version": "3.9.13"
  }
 },
 "nbformat": 4,
 "nbformat_minor": 5
}
