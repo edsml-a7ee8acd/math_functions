{
 "cells": [
  {
   "cell_type": "code",
   "execution_count": 8,
   "id": "e15e8664",
   "metadata": {},
   "outputs": [],
   "source": [
    "import numpy as np\n",
    "from scipy.optimize import bisect"
   ]
  },
  {
   "cell_type": "markdown",
   "id": "6bb2861c",
   "metadata": {},
   "source": [
    "We can modify the root bracketing search method by decreasing the interval by a factor of half, and changing the marching direction depending on the sign of f(x1)f(x2)\n",
    "Where x1 and x2 are local bounds considered during the marching process.\n",
    "\n"
   ]
  },
  {
   "cell_type": "markdown",
   "id": "96a2df0d",
   "metadata": {},
   "source": [
    "Properties:\n",
    "- If the interval has a root, then f(x1)f(x2) < 0 (as f(x1) and f(x2) will be of different signs)\n",
    "- To halve the interval, x3 = (x1+x2)/2. Compute f(x3)\n",
    "- If f(x2)f(x3) < 0, the root must be in [x2, x3]\n",
    "- If not, the root must be in [x1, x3]\n",
    "- Repeat the bisection until the interval has been reduced to a convergence tolerance\n"
   ]
  },
  {
   "cell_type": "code",
   "execution_count": 10,
   "id": "d18d5d21",
   "metadata": {},
   "outputs": [
    {
     "name": "stdout",
     "output_type": "stream",
     "text": [
      "Root from SciPy bisection method =  0.5671432904109679\n"
     ]
    }
   ],
   "source": [
    "#example function\n",
    "def f(x):\n",
    "    return x - np.exp(-x)\n",
    "\n",
    "a, b = -1, 1\n",
    "print(\"Root from SciPy bisection method = \", bisect(f, a, b))"
   ]
  },
  {
   "cell_type": "code",
   "execution_count": 11,
   "id": "07d77987",
   "metadata": {},
   "outputs": [],
   "source": [
    "def bisection(fct, a, b, atol=1.0E-6, nmax=100):\n",
    "    n = 0\n",
    "    while n <= nmax:\n",
    "        c = (a+b)/2\n",
    "        if fct(c) == 0 or (b-a)/2 < atol:\n",
    "            return c\n",
    "        n+= 1\n",
    "        if np.sign(fct(c)) == np.sign(fct(a)):\n",
    "            a = c\n",
    "        else:\n",
    "            b = c\n",
    "    raise RuntimeError('no root found within [a,b]')"
   ]
  },
  {
   "cell_type": "code",
   "execution_count": 12,
   "id": "7be75c7a",
   "metadata": {},
   "outputs": [],
   "source": [
    "def f(x):\n",
    "    return 2*x + x*np.sin(x-3) - 5"
   ]
  },
  {
   "cell_type": "code",
   "execution_count": 14,
   "id": "37eecf30",
   "metadata": {},
   "outputs": [
    {
     "name": "stdout",
     "output_type": "stream",
     "text": [
      "Our code =  2.790355086326599\n",
      "SciPy code =  2.7903546180675676\n"
     ]
    }
   ],
   "source": [
    "a, b = 0, 5\n",
    "print(\"Our code = \", bisection(f, a, b))\n",
    "print(\"SciPy code = \", bisect(f, a, b))"
   ]
  }
 ],
 "metadata": {
  "kernelspec": {
   "display_name": "Python 3 (ipykernel)",
   "language": "python",
   "name": "python3"
  },
  "language_info": {
   "codemirror_mode": {
    "name": "ipython",
    "version": 3
   },
   "file_extension": ".py",
   "mimetype": "text/x-python",
   "name": "python",
   "nbconvert_exporter": "python",
   "pygments_lexer": "ipython3",
   "version": "3.9.13"
  }
 },
 "nbformat": 4,
 "nbformat_minor": 5
}
