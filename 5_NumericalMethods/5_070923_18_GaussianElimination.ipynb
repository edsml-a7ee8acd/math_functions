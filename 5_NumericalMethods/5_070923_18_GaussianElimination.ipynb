{
 "cells": [
  {
   "cell_type": "markdown",
   "id": "75a5cb7e",
   "metadata": {},
   "source": [
    "To carry out gaussian elimination, we first need a function that will convert our matrix to upper triangular form."
   ]
  },
  {
   "cell_type": "code",
   "execution_count": 1,
   "id": "98266966",
   "metadata": {},
   "outputs": [],
   "source": [
    "import numpy as np"
   ]
  },
  {
   "cell_type": "code",
   "execution_count": 3,
   "id": "9f5f01ef",
   "metadata": {},
   "outputs": [],
   "source": [
    "def upper_triangle(A, b):\n",
    "    #This uses row operations on the vector b and Matrix A \n",
    "    # to convert it to upper triangular \n",
    "    n = np.size(b)\n",
    "    rows, cols = np.shape(A)\n",
    "    assert(rows == cols)\n",
    "    assert(rows == n) #i.e. verify that A is square and has the same number of rows as vector b\n",
    "    \n",
    "    for k in range(n-1):\n",
    "        for i in range(k+1, n):\n",
    "            #define a scale factor for a row outside the innermost loop\n",
    "            #value gets changes as A is over-written\n",
    "            s = (A[i, k] / A[k, k])\n",
    "            #Update the current \n",
    "            for j in range(k, n):\n",
    "                A[i, j] = A[i, j] - s*A[k, j]\n",
    "            #update the corresponding entry of b\n",
    "            b[i] = b[i] - s*b[k]\n",
    "            \n",
    "    return A, b"
   ]
  },
  {
   "attachments": {
    "image.png": {
     "image/png": "[encoded data removed]"
    }
   },
   "cell_type": "markdown",
   "id": "32adf3a9",
   "metadata": {},
   "source": [
    "**Now** that the code is in upper triangular form, we can use back-substitution to obtain a final solution x. \n",
    "Using the principle that Ax=b, we can rearrange to get x = b/A or, with respect to the dimensionality of the matrix:\n",
    "\n",
    "![image.png](attachment:image.png)"
   ]
  },
  {
   "cell_type": "code",
   "execution_count": 6,
   "id": "3a67dd37",
   "metadata": {},
   "outputs": [],
   "source": [
    "def back_substitution(A, b):\n",
    "    \n",
    "    n = np.size(b)\n",
    "    #check A is square and rows and columns in A are the same as size vector b\n",
    "    rows, cols = np.shape(A)\n",
    "    assert(rows == cols)\n",
    "    assert(rows == n)\n",
    "    #np.triu returns the triangular part of a matrix; if A has been \n",
    "    #successfully converted, then it will return the entire matrix\n",
    "    assert(np.allclose(A, np.triu(A)))\n",
    "\n",
    "    x = np.zeros(n)\n",
    "    for k in range(n-1, -1, -1):\n",
    "        s = 0\n",
    "        for j in range(k+1, n):\n",
    "            s = s + A[k,j]*x[j]\n",
    "        x[k] = (b[k] - s)/A[k, k]\n",
    "        \n",
    "    return x\n",
    "\n",
    "#this returns the matrix x"
   ]
  }
 ],
 "metadata": {
  "kernelspec": {
   "display_name": "Python 3 (ipykernel)",
   "language": "python",
   "name": "python3"
  },
  "language_info": {
   "codemirror_mode": {
    "name": "ipython",
    "version": 3
   },
   "file_extension": ".py",
   "mimetype": "text/x-python",
   "name": "python",
   "nbconvert_exporter": "python",
   "pygments_lexer": "ipython3",
   "version": "3.9.13"
  }
 },
 "nbformat": 4,
 "nbformat_minor": 5
}
