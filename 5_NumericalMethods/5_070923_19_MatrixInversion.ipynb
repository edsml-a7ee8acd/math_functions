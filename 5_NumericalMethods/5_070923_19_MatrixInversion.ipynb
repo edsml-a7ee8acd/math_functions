{
 "cells": [
  {
   "cell_type": "code",
   "execution_count": 33,
   "id": "3be4df0e",
   "metadata": {},
   "outputs": [],
   "source": [
    "import numpy as np\n",
    "import scipy.linalg as sl"
   ]
  },
  {
   "cell_type": "markdown",
   "id": "5f76a956",
   "metadata": {},
   "source": [
    "Code to construct the inverse of a matrix"
   ]
  },
  {
   "cell_type": "code",
   "execution_count": 34,
   "id": "f0e05704",
   "metadata": {},
   "outputs": [],
   "source": [
    "def upper_triangle(A,B):\n",
    "    n, m = np.shape(A)\n",
    "    assert(n == m) #assert matrix is square\n",
    "    \n",
    "    for k in range(n-1):\n",
    "        for i in range(k+1, n):\n",
    "            s = (A[i, k]/A[k, k])\n",
    "            for j in range(n):\n",
    "                A[i,j] = A[i,j] - s*A[k,j]\n",
    "                B[i,k] = B[i,j] - s*B[k,j]\n",
    "                \n",
    "def lower_triangle(A,B):\n",
    "    #the rationale of having an upper and lower triangular \n",
    "    #function is that if you feed a matrix into them one after another, \n",
    "    #you get a diagonal matrix\n",
    "    n, m = np.shape(A)\n",
    "    assert(n==m)\n",
    "    \n",
    "    for k in range(n-1, -1, -1):\n",
    "        for i in range(k-1, -1, -1): #notice that these loops iterate through the \n",
    "                                     #lists in inverse order to the upper triangular function\n",
    "            s = (A[i,k]/A[k,k])\n",
    "            for j in range(n):\n",
    "                A[i,j] = A[i,j] - s*A[k,j]\n",
    "                B[i,j] = B[i,j] - s*B[k,j]\n",
    "    "
   ]
  },
  {
   "cell_type": "markdown",
   "id": "003569e5",
   "metadata": {},
   "source": [
    "Application of A,B to a given matrix array"
   ]
  },
  {
   "cell_type": "code",
   "execution_count": 35,
   "id": "1b6aff3a",
   "metadata": {},
   "outputs": [
    {
     "name": "stdout",
     "output_type": "stream",
     "text": [
      "Upper triangular transformed A = \n",
      "[[ 2  3 -4]\n",
      " [ 0 -5  8]\n",
      " [ 0  0  3]]\n",
      "\n",
      "And following application of our lower triangular function = \n",
      "[[ 2  0  0]\n",
      " [ 0 -5  0]\n",
      " [ 0  0  3]]\n",
      "\n",
      "Our final transformed A = \n",
      "[[1 0 0]\n",
      " [0 1 0]\n",
      " [0 0 1]]\n",
      "\n",
      "and the correspondingly transformed B = \n",
      "[[ 0.36666667  0.16666667 -0.13333333]\n",
      " [ 0.53333333  0.33333333  0.53333333]\n",
      " [ 0.33333333  0.33333333  0.33333333]]\n",
      "\n",
      "SciPy computes the inverse as: \n",
      "[[ 0.13043478  0.30434783 -0.04347826]\n",
      " [-0.04347826 -0.43478261  0.34782609]\n",
      " [-0.2173913  -0.17391304  0.23913043]]\n",
      "\n",
      "Success:  False\n"
     ]
    }
   ],
   "source": [
    "A = np.array([[2, 3, -4],\n",
    "            [3,-1,2],\n",
    "            [4,2,2]])\n",
    "\n",
    "#b is an identity matrix with a corresponding size\n",
    "B = np.eye(np.shape(A)[0])\n",
    "\n",
    "#transform A into upper triangular form\n",
    "# and perform that operation on B\n",
    "upper_triangle(A, B)\n",
    "print('Upper triangular transformed A = ')\n",
    "print(A)\n",
    "\n",
    "#Now make lower triangular as well, to produce a diagonal matrix\n",
    "lower_triangle(A, B)\n",
    "print('\\nAnd following application of our lower triangular function = ')\n",
    "print(A)\n",
    "\n",
    "#Divide each row through by the value of the \n",
    "#diagonal to end up with 1's on the main diagonal\n",
    "#and 0 everywhere else.\n",
    "for i in range(np.shape(A)[0]):\n",
    "    B[i, :] = B[i, :]/A[i,i]\n",
    "    A[i, :] = A[i, :]/A[i,i]\n",
    "    \n",
    "print('\\nOur final transformed A = ')\n",
    "print(A)\n",
    "\n",
    "print('\\nand the correspondingly transformed B = ')\n",
    "print(B)\n",
    "\n",
    "A = np.array([[2, 3, -4], [3, -1, 2], [4, 2, 2]])\n",
    "print('\\nSciPy computes the inverse as: ')\n",
    "print(sl.inv(A))\n",
    "\n",
    "print('\\nSuccess: ', np.allclose(B, sl.inv(A)))"
   ]
  },
  {
   "cell_type": "code",
   "execution_count": 31,
   "id": "4057c774",
   "metadata": {},
   "outputs": [
    {
     "name": "stdout",
     "output_type": "stream",
     "text": [
      "Upper triangular transformed A = \n",
      "[[ 2.          3.         -4.        ]\n",
      " [ 0.         -5.5         8.        ]\n",
      " [ 0.          0.          4.18181818]]\n",
      "\n",
      "and following application of our lower triangular function = \n",
      "[[ 2.          0.          0.        ]\n",
      " [ 0.         -5.5         0.        ]\n",
      " [ 0.          0.          4.18181818]]\n",
      "\n",
      "Our final transformed A = \n",
      "[[ 1.  0.  0.]\n",
      " [-0.  1. -0.]\n",
      " [ 0.  0.  1.]]\n",
      "\n",
      "and the correspondingly transformed B = \n",
      "[[ 0.13043478  0.30434783 -0.04347826]\n",
      " [-0.04347826 -0.43478261  0.34782609]\n",
      " [-0.2173913  -0.17391304  0.23913043]]\n",
      "\n",
      "SciPy computes the inverse as:\n",
      "[[ 0.13043478  0.30434783 -0.04347826]\n",
      " [-0.04347826 -0.43478261  0.34782609]\n",
      " [-0.2173913  -0.17391304  0.23913043]]\n",
      "\n",
      "Success:  True\n"
     ]
    }
   ],
   "source": []
  },
  {
   "cell_type": "code",
   "execution_count": null,
   "id": "45b971ef",
   "metadata": {},
   "outputs": [],
   "source": []
  }
 ],
 "metadata": {
  "kernelspec": {
   "display_name": "Python 3 (ipykernel)",
   "language": "python",
   "name": "python3"
  },
  "language_info": {
   "codemirror_mode": {
    "name": "ipython",
    "version": 3
   },
   "file_extension": ".py",
   "mimetype": "text/x-python",
   "name": "python",
   "nbconvert_exporter": "python",
   "pygments_lexer": "ipython3",
   "version": "3.9.13"
  }
 },
 "nbformat": 4,
 "nbformat_minor": 5
}
