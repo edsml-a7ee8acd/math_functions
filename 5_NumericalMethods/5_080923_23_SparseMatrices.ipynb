{
 "cells": [
  {
   "cell_type": "code",
   "execution_count": 22,
   "id": "66456b70",
   "metadata": {},
   "outputs": [],
   "source": [
    "import numpy as np\n",
    "import matplotlib.pyplot as plt\n",
    "import scipy.linalg as sl\n",
    "import scipy as sp"
   ]
  },
  {
   "cell_type": "markdown",
   "id": "2da1cfbe",
   "metadata": {},
   "source": [
    "For the majority of differential equations, they are generally sparse, meaning that most entries are zero (the alternative is termed 'dense'). \n",
    "\n",
    "We can devise more efficient storage methods i.e. by skipping over operations that we know involve multiplications by zero as we know the answer will be zero\n",
    "\n",
    "For Jacobi and Gauss-Seidel, the cost of each iteration is dependent on the number of unknowns n, so computational cost of methods scales as n^2\n",
    "If the row only contains a fixed, small number of non-zero entries, we can simply skip the zero entries and cost per iteration becomes linear in n"
   ]
  },
  {
   "cell_type": "code",
   "execution_count": 23,
   "id": "05140fa3",
   "metadata": {},
   "outputs": [
    {
     "name": "stdout",
     "output_type": "stream",
     "text": [
      "[[-2.          0.17138084  0.         ...  0.          0.\n",
      "   0.        ]\n",
      " [ 0.17138084 -2.          0.09678585 ...  0.          0.\n",
      "   0.        ]\n",
      " [ 0.          0.09678585 -2.         ...  0.          0.\n",
      "   0.        ]\n",
      " ...\n",
      " [ 0.          0.          0.         ... -2.          0.43715712\n",
      "   0.        ]\n",
      " [ 0.          0.          0.         ...  0.43715712 -2.\n",
      "   0.15080316]\n",
      " [ 0.          0.          0.         ...  0.          0.15080316\n",
      "  -2.        ]]\n",
      "This is the same matrix but now stored in a sparse matrix data structure.\n",
      "  (0, 0)\t-2.0\n",
      "  (0, 1)\t0.17138083832092\n",
      "  (1, 0)\t0.17138083832092\n",
      "  (1, 1)\t-2.0\n",
      "  (1, 2)\t0.09678584523742062\n",
      "  (2, 1)\t0.09678584523742062\n",
      "  (2, 2)\t-2.0\n",
      "  (2, 3)\t0.06387700873888613\n",
      "  (3, 2)\t0.06387700873888613\n",
      "  (3, 3)\t-2.0\n",
      "  (3, 4)\t0.8992846758850166\n",
      "  (4, 3)\t0.8992846758850166\n",
      "  (4, 4)\t-2.0\n",
      "  (4, 5)\t0.5151022225036674\n",
      "  (5, 4)\t0.5151022225036674\n",
      "  (5, 5)\t-2.0\n",
      "  (5, 6)\t0.7463709953190173\n",
      "  (6, 5)\t0.7463709953190173\n",
      "  (6, 6)\t-2.0\n",
      "  (6, 7)\t0.2602728387962431\n",
      "  (7, 6)\t0.2602728387962431\n",
      "  (7, 7)\t-2.0\n",
      "  (7, 8)\t0.7264103437738066\n",
      "  (8, 7)\t0.7264103437738066\n",
      "  (8, 8)\t-2.0\n",
      "  :\t:\n",
      "  (41, 41)\t-2.0\n",
      "  (41, 42)\t0.6528878470176207\n",
      "  (42, 41)\t0.6528878470176207\n",
      "  (42, 42)\t-2.0\n",
      "  (42, 43)\t0.6708466156127182\n",
      "  (43, 42)\t0.6708466156127182\n",
      "  (43, 43)\t-2.0\n",
      "  (43, 44)\t0.3769421457135057\n",
      "  (44, 43)\t0.3769421457135057\n",
      "  (44, 44)\t-2.0\n",
      "  (44, 45)\t0.7356318734268781\n",
      "  (45, 44)\t0.7356318734268781\n",
      "  (45, 45)\t-2.0\n",
      "  (45, 46)\t0.42354570056149465\n",
      "  (46, 45)\t0.42354570056149465\n",
      "  (46, 46)\t-2.0\n",
      "  (46, 47)\t0.4445547012730111\n",
      "  (47, 46)\t0.4445547012730111\n",
      "  (47, 47)\t-2.0\n",
      "  (47, 48)\t0.43715711604418506\n",
      "  (48, 47)\t0.43715711604418506\n",
      "  (48, 48)\t-2.0\n",
      "  (48, 49)\t0.1508031609151742\n",
      "  (49, 48)\t0.1508031609151742\n",
      "  (49, 49)\t-2.0\n"
     ]
    }
   ],
   "source": [
    "n = 50\n",
    "main_diag = np.ones(n) #creates a vector of ones \n",
    "\n",
    "off_diag = np.random.random(n-1)\n",
    "A = np.diag(-2*main_diag, 0) + np.diag(1*off_diag,1) + np.diag(1*off_diag,-1)\n",
    "#A random RHS vector\n",
    "b = np.random.random(A.shape[0])\n",
    "print(A)\n",
    "\n",
    "sA = sp.sparse.csr_matrix(A)\n",
    "print('This is the same matrix but now stored in a sparse matrix data structure.')\n",
    "print(sA)"
   ]
  },
  {
   "cell_type": "markdown",
   "id": "9c12ce16",
   "metadata": {},
   "source": [
    "We are now using a Conjugate Gradient algorithm from scipy to define a callback function which we can pass to the solver\n",
    "This will store and print the iteration numbers and residuals, basically a method to output some information on the solver"
   ]
  },
  {
   "cell_type": "code",
   "execution_count": 25,
   "id": "87395ef6",
   "metadata": {},
   "outputs": [
    {
     "name": "stdout",
     "output_type": "stream",
     "text": [
      "Execute the CG algorithm with:\n",
      "1 1.863970419953804\n",
      "2 0.657245681808171\n",
      "3 0.22586008545408187\n",
      "4 0.08582838228317638\n",
      "5 0.03245076142172889\n",
      "6 0.012452529803414774\n",
      "7 0.004718083825529428\n",
      "8 0.0019625768394302455\n",
      "9 0.0006267090857520234\n",
      "10 0.0001635982467542102\n",
      "11 7.205081705375431e-05\n",
      "12 2.3276483777315176e-05\n",
      "13 8.891211402249596e-06\n",
      "14 3.3409904448683887e-06\n",
      "15 8.208897670752107e-07\n",
      "16 2.0396029205420728e-07\n",
      "17 7.227537572898465e-08\n",
      "18 2.408923233665921e-08\n",
      "19 7.198343439450489e-09\n",
      "20 2.6033476098151843e-09\n",
      "21 7.909912374985051e-10\n",
      "22 2.7135950572383623e-10\n"
     ]
    }
   ],
   "source": [
    "def gen_callback_cg():\n",
    "    diagnostics = dict(it=0, residuals=[]) \n",
    "    def callback(xk):   # xk is the solution computed by CG at each iteration\n",
    "        diagnostics[\"it\"] += 1\n",
    "        diagnostics[\"residuals\"].append(sl.norm(A @ xk - b))\n",
    "        print(diagnostics[\"it\"], sl.norm(A @ xk - b))\n",
    "    return callback    \n",
    "\n",
    "print('Execute the CG algorithm with:')\n",
    "x_sol = sp.sparse.linalg.cg(A,b,x0=None, tol=1e-10, maxiter=1000, callback=gen_callback_cg())"
   ]
  },
  {
   "cell_type": "code",
   "execution_count": null,
   "id": "e660d431",
   "metadata": {},
   "outputs": [],
   "source": []
  }
 ],
 "metadata": {
  "kernelspec": {
   "display_name": "Python 3 (ipykernel)",
   "language": "python",
   "name": "python3"
  },
  "language_info": {
   "codemirror_mode": {
    "name": "ipython",
    "version": 3
   },
   "file_extension": ".py",
   "mimetype": "text/x-python",
   "name": "python",
   "nbconvert_exporter": "python",
   "pygments_lexer": "ipython3",
   "version": "3.9.13"
  }
 },
 "nbformat": 4,
 "nbformat_minor": 5
}
